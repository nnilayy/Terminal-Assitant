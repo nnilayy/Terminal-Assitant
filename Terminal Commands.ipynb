{
 "cells": [
  {
   "cell_type": "markdown",
   "metadata": {},
   "source": [
    "### Git & Github"
   ]
  },
  {
   "cell_type": "code",
   "execution_count": null,
   "metadata": {},
   "outputs": [],
   "source": [
    "# Initial Commit\n",
    "cd to_project_directory\n",
    "git init\n",
    "git add . # git add \"file.py\" or git add \"folder_name\"\n",
    "git commit -m \"first commit\"\n",
    "git branch -M main\n",
    "git remote add origin https://github.com/nnilayy/REPO_NAME.git\n",
    "git push -u origin main\n",
    "\n",
    "\n",
    "# Keeping forked repo up to date with original repo\n",
    "git remote add upstream https://github.com/ORIGINAL_REPO_ACCOUNT/ORIGINAL_REPO [Original Repository]\n",
    "git fetch upstream\n",
    "git checkout main [main: name of your branch in forked repo]\n",
    "git merge upstream/main [or git rebase upstream/master]\n",
    "git push origin main\n",
    "\n",
    "# Mutiple Changes\n",
    "cd to_project_directory\n",
    "# If an issue is encountered: git pull origin main\n",
    "git add .  \n",
    "git commit -m \"first commit\" # git commit --allow-empty-message -m \" \"\n",
    "git branch -M master\n",
    "git push -u origin master\n"
   ]
  },
  {
   "cell_type": "markdown",
   "metadata": {},
   "source": [
    "### Docker"
   ]
  },
  {
   "cell_type": "code",
   "execution_count": null,
   "metadata": {},
   "outputs": [],
   "source": [
    "cd to_project_directory\n",
    "docker build -t image_name .\n",
    "docker run -p 10000:3000 image_name\n",
    "# 10000: the port you want to be exposed \n",
    "# 3000: the port exposed by the app"
   ]
  },
  {
   "cell_type": "markdown",
   "metadata": {},
   "source": [
    "### Virtual Environment"
   ]
  },
  {
   "cell_type": "code",
   "execution_count": null,
   "metadata": {},
   "outputs": [],
   "source": [
    "cd to_project_directory\n",
    "virtualenv venv\n",
    "code . # VS Code opens\n",
    "ctrl + ` # Opens terminal\n",
    "venv/Scripts/activate # Activate virtual environment \n",
    "deactivate # Deactivates virtual environment\n"
   ]
  }
 ],
 "metadata": {
  "language_info": {
   "name": "python"
  },
  "orig_nbformat": 4
 },
 "nbformat": 4,
 "nbformat_minor": 2
}
