{
 "cells": [
  {
   "cell_type": "markdown",
   "metadata": {},
   "source": [
    "### Git & Github"
   ]
  },
  {
   "cell_type": "code",
   "execution_count": null,
   "metadata": {},
   "outputs": [],
   "source": [
    "# Initial Commit\n",
    "cd to_project_directory\n",
    "git init\n",
    "git add . # git add \"file.py\" or git add \"folder_name\"\n",
    "git commit -m \"first commit\"\n",
    "git branch -M main\n",
    "git remote add origin https://github.com/nnilayy/REPO_NAME.git\n",
    "git push -u origin main"
   ]
  },
  {
   "cell_type": "code",
   "execution_count": null,
   "metadata": {},
   "outputs": [],
   "source": [
    "# create a project in github\n",
    "git clone https://github.com/repo/repo.git\n",
    "# make changes\n",
    "git add .\n",
    "git commit -m \"Made Changes\"\n",
    "git push"
   ]
  },
  {
   "cell_type": "code",
   "execution_count": null,
   "metadata": {},
   "outputs": [],
   "source": [
    "# SYNC A FORK WITH UPSTREAM WITHOUT CREATING A COMMIT\n",
    "git remote add upstream https://github.com/repo/original.git\n",
    "git fetch upstream\n",
    "git checkout main\n",
    "git rebase upstream/main\n",
    "git push --force"
   ]
  },
  {
   "cell_type": "code",
   "execution_count": null,
   "metadata": {},
   "outputs": [],
   "source": [
    "# RETURN TO A COMMIT IN GITHUB\n",
    "git log\n",
    "git reset --hard commit_id\n",
    "git push --force"
   ]
  },
  {
   "cell_type": "markdown",
   "metadata": {},
   "source": [
    "## Running Tests with Python"
   ]
  },
  {
   "cell_type": "code",
   "execution_count": null,
   "metadata": {},
   "outputs": [],
   "source": [
    "ctrl+shift+p -> Configure: Python Tests->pytest \n",
    "python -m pytest  tests/\n",
    "python -m pytest -m fast tests/"
   ]
  },
  {
   "cell_type": "markdown",
   "metadata": {},
   "source": [
    "### Docker"
   ]
  },
  {
   "cell_type": "code",
   "execution_count": null,
   "metadata": {},
   "outputs": [],
   "source": [
    "cd to_project_directory\n",
    "docker build -t image_name .\n",
    "docker run -p 10000:3000 image_name\n",
    "# 10000: the port you want to be exposed \n",
    "# 3000: the port exposed by the app"
   ]
  },
  {
   "cell_type": "markdown",
   "metadata": {},
   "source": [
    "### Virtual Environment"
   ]
  },
  {
   "cell_type": "code",
   "execution_count": null,
   "metadata": {},
   "outputs": [],
   "source": [
    "# CREATE A VIRTUAL ENVIRONMENT WITH uv\n",
    "uv venv venv\n",
    "venv/Scripts/activate or source venv/bin/activate\n",
    "ctrl+shift+p [select venv]\n",
    "deactiavte"
   ]
  },
  {
   "cell_type": "code",
   "execution_count": null,
   "metadata": {},
   "outputs": [],
   "source": [
    "cd to_project_directory\n",
    "virtualenv venv\n",
    "code . # VS Code opens\n",
    "ctrl + ` # Opens terminal\n",
    "venv/Scripts/activate # Activate virtual environment \n",
    "deactivate # Deactivates virtual environment\n"
   ]
  }
 ],
 "metadata": {
  "language_info": {
   "name": "python"
  },
  "orig_nbformat": 4
 },
 "nbformat": 4,
 "nbformat_minor": 2
}
